{
 "cells": [
  {
   "cell_type": "markdown",
   "metadata": {},
   "source": [
    "# An Introduction to Motion Kinetics Model\n",
    "_**The Modjoul Motion Kinetics Model provides information about ergonomic behavior — duration and counts of walking, bending and twisting like activities based upon various sensor values.**_\n",
    "\n",
    "1. [Introduction](#1.-Introduction)\n",
    "2. [Preparing CSV](#2.-Preparing-CSV)\n",
    "3. [Method - 1 Using Endpoint](#3.-Using-Endpoint)<br>\n",
    "    3.1. [Creating model](#3.1.-Creating-Model)<br>\n",
    "    3.2. [Creating endpoint config](#3.2.-Creating-Endpoint-Config)<br>\n",
    "    3.3. [Creating endpoint](#3.3.-Creating-Endpoint)<br>\n",
    "    3.2. [Invoking endpoint](#3.4.-Invoking-Endpoint)<br>\n",
    "    3.2. [Deleting the Endpoint - Optional](#3.5.-Deleting-the-Endpoint---Optional)\n",
    "4. [Method - 2 Using batch transform job](#4.-Using-Batch-Transform-Job)\n",
    "5. [Model Output](#5.-Model-Output)\n"
   ]
  },
  {
   "cell_type": "markdown",
   "metadata": {},
   "source": [
    " "
   ]
  },
  {
   "cell_type": "markdown",
   "metadata": {},
   "source": [
    "## 1. Introduction\n",
    "Motion is the number one cause for injuries in the workplace as well as the structural driver for athletic activities. Modjoul Motion model identifies 4 major activities and corresponding metrics. This model detects not only walking steps but also bends, twists and stationary time. It accepts input in CSV format and outputs data in JSON format.<br>\n",
    "Bending – Count and duration at different bending angle buckets with/without acceleration and twist<br>\n",
    "Twisting – Count and duration for low and high angle twists with/without acceleration<br>\n",
    "Walking – Steps, duration, distance and speed<br>\n",
    "Stationary work – Duration<br>"
   ]
  },
  {
   "cell_type": "markdown",
   "metadata": {},
   "source": [
    " "
   ]
  },
  {
   "cell_type": "markdown",
   "metadata": {},
   "source": [
    "## 2. Preparing CSV\n",
    "Prepare a csv file that should and must contain at least the following sensor values as columns:<br>\n",
    "**altimeter, accelerometer (X,Y,Z-axis values), magnetometer (X,Y,Z-axis values), gyroscope (X,Y,Z-axis values)**. The X, Y, Z - axis are aligned such that +X points to left of the body, +Y points towards above the body and +Z points to the front of the body. The model is a best fit if the sensors placement is at the waist region (similar to the postion of belt buckle).<br><br>\n",
    "**GPS** sensor values are optional but can be provided in order to improve the accuracy of the model. GPS values should contain two columns **gpsSpeed and gpsCourse**, if they are available.\n",
    "<font color=\"red\">_**Each data point is considered at milisecond level i.e, 10 rows = 1 second worth data**_</font> <br><br>\n",
    "The CSV file should include header and the columnNames should be as below : <br>\n",
    "_**altimeter accelX accelY accelZ magnetoX magnetoY magnetoZ gyroX gyroY gyroZ gpsSpeed gpsCourse**_\n",
    "(last two columns are optional)\n",
    "\n",
    "**Note:** The request body size for the endpoint should not exceed 7 MB."
   ]
  },
  {
   "cell_type": "code",
   "execution_count": 1,
   "metadata": {},
   "outputs": [
    {
     "data": {
      "text/html": [
       "<div>\n",
       "<style scoped>\n",
       "    .dataframe tbody tr th:only-of-type {\n",
       "        vertical-align: middle;\n",
       "    }\n",
       "\n",
       "    .dataframe tbody tr th {\n",
       "        vertical-align: top;\n",
       "    }\n",
       "\n",
       "    .dataframe thead th {\n",
       "        text-align: right;\n",
       "    }\n",
       "</style>\n",
       "<table border=\"1\" class=\"dataframe\">\n",
       "  <thead>\n",
       "    <tr style=\"text-align: right;\">\n",
       "      <th></th>\n",
       "      <th>timestamp</th>\n",
       "      <th>altimeter</th>\n",
       "      <th>gyroX</th>\n",
       "      <th>gyroY</th>\n",
       "      <th>gyroZ</th>\n",
       "      <th>accelX</th>\n",
       "      <th>accelY</th>\n",
       "      <th>accelZ</th>\n",
       "      <th>magnetoX</th>\n",
       "      <th>magnetoY</th>\n",
       "      <th>magnetoZ</th>\n",
       "      <th>gpsSpeed</th>\n",
       "      <th>gpsCourse</th>\n",
       "    </tr>\n",
       "  </thead>\n",
       "  <tbody>\n",
       "    <tr>\n",
       "      <th>0</th>\n",
       "      <td>2017-09-08T18:08:10.000Z</td>\n",
       "      <td>201.07</td>\n",
       "      <td>0.31</td>\n",
       "      <td>-0.55</td>\n",
       "      <td>1.59</td>\n",
       "      <td>-0.32</td>\n",
       "      <td>-9.35</td>\n",
       "      <td>3.88</td>\n",
       "      <td>5</td>\n",
       "      <td>-5</td>\n",
       "      <td>130</td>\n",
       "      <td>0.0</td>\n",
       "      <td>0.0</td>\n",
       "    </tr>\n",
       "    <tr>\n",
       "      <th>1</th>\n",
       "      <td>2017-09-08T18:08:10.001Z</td>\n",
       "      <td>149.10</td>\n",
       "      <td>0.49</td>\n",
       "      <td>-0.49</td>\n",
       "      <td>1.46</td>\n",
       "      <td>-0.38</td>\n",
       "      <td>-9.30</td>\n",
       "      <td>3.89</td>\n",
       "      <td>3</td>\n",
       "      <td>58</td>\n",
       "      <td>71</td>\n",
       "      <td>0.0</td>\n",
       "      <td>0.0</td>\n",
       "    </tr>\n",
       "    <tr>\n",
       "      <th>2</th>\n",
       "      <td>2017-09-08T18:08:10.002Z</td>\n",
       "      <td>148.75</td>\n",
       "      <td>0.06</td>\n",
       "      <td>-0.49</td>\n",
       "      <td>1.22</td>\n",
       "      <td>-0.41</td>\n",
       "      <td>-9.35</td>\n",
       "      <td>3.88</td>\n",
       "      <td>5</td>\n",
       "      <td>60</td>\n",
       "      <td>73</td>\n",
       "      <td>0.0</td>\n",
       "      <td>0.0</td>\n",
       "    </tr>\n",
       "  </tbody>\n",
       "</table>\n",
       "</div>"
      ],
      "text/plain": [
       "                  timestamp  altimeter  gyroX  gyroY  gyroZ  accelX  accelY  \\\n",
       "0  2017-09-08T18:08:10.000Z     201.07   0.31  -0.55   1.59   -0.32   -9.35   \n",
       "1  2017-09-08T18:08:10.001Z     149.10   0.49  -0.49   1.46   -0.38   -9.30   \n",
       "2  2017-09-08T18:08:10.002Z     148.75   0.06  -0.49   1.22   -0.41   -9.35   \n",
       "\n",
       "   accelZ  magnetoX  magnetoY  magnetoZ  gpsSpeed  gpsCourse  \n",
       "0    3.88         5        -5       130       0.0        0.0  \n",
       "1    3.89         3        58        71       0.0        0.0  \n",
       "2    3.88         5        60        73       0.0        0.0  "
      ]
     },
     "execution_count": 1,
     "metadata": {},
     "output_type": "execute_result"
    }
   ],
   "source": [
    "import pandas as pd\n",
    "df = pd.read_csv('https://s3.amazonaws.com/sagemaker-sample-datasets/IndoorDriving/InputData/sampleInput.csv')\n",
    "df.to_csv(\"sample.csv\",index=False)\n",
    "df.head(3)"
   ]
  },
  {
   "cell_type": "markdown",
   "metadata": {},
   "source": [
    " "
   ]
  },
  {
   "cell_type": "markdown",
   "metadata": {},
   "source": [
    "## 3. Using Endpoint\n",
    "\n",
    "The model can be directly accessed via the console provided by AWS. However, for a more customized process one can access the model using the below code as well."
   ]
  },
  {
   "cell_type": "markdown",
   "metadata": {},
   "source": [
    "### 3.1. Creating Model\n",
    "To create a model, import boto3, sagemaker and get the arn of the model package"
   ]
  },
  {
   "cell_type": "code",
   "execution_count": null,
   "metadata": {},
   "outputs": [],
   "source": [
    "import boto3\n",
    "import sagemaker\n",
    "role = sagemaker.get_execution_role()\n",
    "smmp = boto3.client('sagemakermp')\n",
    "modelName='<Input Model Name>'' \n",
    "modelArn = 'Paste Model ARN>'\n",
    "createHeatIndexResponse = smmp.create_model(ModelName='Model-From-modjoul-motion',\\\n",
    "                             Containers=[{'ModelPackageName': modelArn}],\\\n",
    "                             ExecutionRoleArn=role,\\\n",
    "                             EnableNetworkIsolation=True )"
   ]
  },
  {
   "cell_type": "markdown",
   "metadata": {},
   "source": [
    "### 3.2. Creating Endpoint Config\n"
   ]
  },
  {
   "cell_type": "code",
   "execution_count": null,
   "metadata": {},
   "outputs": [],
   "source": [
    "configName='<Input Configuration Name>'\n",
    "instanceType = '<Input Instance Type>'\n",
    "createHeatIndexEndpointConfig = smmp.create_endpoint_config(EndpointConfigName = configName, ProductionVariants = [{'InstanceType':instanceType, 'InitialInstanceCount':1, 'ModelName':modelName, 'VariantName':'xyz'}])"
   ]
  },
  {
   "cell_type": "markdown",
   "metadata": {},
   "source": [
    "### 3.3. Creating Endpoint"
   ]
  },
  {
   "cell_type": "code",
   "execution_count": null,
   "metadata": {},
   "outputs": [],
   "source": [
    "endpointName = '<Input Endpoint Name>'\n",
    "createHeatIndexEndpoint = smmp.create_endpoint(EndpointName = endpointName, EndpointConfigName = configName)"
   ]
  },
  {
   "cell_type": "markdown",
   "metadata": {},
   "source": [
    "### 3.4. Invoking Endpoint"
   ]
  },
  {
   "cell_type": "code",
   "execution_count": 5,
   "metadata": {},
   "outputs": [],
   "source": [
    "\n",
    "runtime = boto3.Session().client('runtime.sagemaker')\n",
    "\n",
    "#Reading Input Data \n",
    "with open('sample.csv','rb') as f:\n",
    "    payload = f.read()\n",
    "\n",
    "response = runtime.invoke_endpoint(EndpointName = endpointName, ContentType = 'text/csv', Body = payload)\n",
    "result = response['Body'].read().decode()\n",
    "\n",
    "#Writing Output Data \n",
    "import json\n",
    "with open('sampleOutput.json','w') as f:\n",
    "    f.write(json.dumps(json.loads(result)))"
   ]
  },
  {
   "cell_type": "code",
   "execution_count": 11,
   "metadata": {},
   "outputs": [],
   "source": [
    "response = runtime.invoke_endpoint(EndpointName = endpointName, ContentType = 'text/csv', Body = payload)"
   ]
  },
  {
   "cell_type": "markdown",
   "metadata": {},
   "source": [
    "### 3.5. Deleting the Endpoint - Optional\n",
    "\n",
    "If you're ready to be done with this notebook, please run the delete_endpoint line in the cell below.  This will remove the hosted endpoint you created and avoid any charges from a stray instance being left on."
   ]
  },
  {
   "cell_type": "code",
   "execution_count": null,
   "metadata": {},
   "outputs": [],
   "source": [
    "sagemaker.Session().delete_endpoint(endpointName)"
   ]
  },
  {
   "cell_type": "markdown",
   "metadata": {},
   "source": [
    " "
   ]
  },
  {
   "cell_type": "markdown",
   "metadata": {},
   "source": [
    "## 4. Using Batch Transform Job\n",
    "\n",
    "Refer the below link for how to use batch transform job for getting inferences from a model\n",
    "[sagemaker batch transform job](https://docs.aws.amazon.com/sagemaker/latest/dg/ex1-batch-transform.html#ex1-batch-transform-console)"
   ]
  },
  {
   "cell_type": "code",
   "execution_count": null,
   "metadata": {},
   "outputs": [],
   "source": [
    "import boto3\n",
    "import sagemaker\n",
    "\n",
    "inputLocation = '<S3 location for Input Data>'\n",
    "outputLocation = '<S3 location for Output Data>'\n",
    "\n",
    "jobName = '<Input Job Name>'\n",
    "modelName = '<Input Model Name>'\n",
    "instanceType = '<Input Instance Type>\n",
    "\n",
    "# Initialize the transformer object\n",
    "transformer =sagemaker.transformer.Transformer(base_transform_job_name = jobName, model_name = modelName, instance_count=1, instance_type = instanceType, output_path = outputLocation)\n",
    "\n",
    "# To start a transform job:\n",
    "transformer.transform(inputLocation, content_type='text/csv', split_type='None')\n",
    "\n",
    "# Then wait until transform job is completed\n",
    "transformer.wait() \n"
   ]
  },
  {
   "cell_type": "markdown",
   "metadata": {},
   "source": [
    " "
   ]
  },
  {
   "cell_type": "markdown",
   "metadata": {},
   "source": [
    "## 5. Model Output"
   ]
  },
  {
   "cell_type": "code",
   "execution_count": 7,
   "metadata": {},
   "outputs": [
    {
     "data": {
      "text/plain": [
       "{'others': {'othersDuration': 0.0},\n",
       " 'totalDuration': {'totalDuration': 15.0},\n",
       " 'scores': {'scoreLumbarStatic': 10.8,\n",
       "  'scoreLumbarDynamic': 4,\n",
       "  'scoreMET': 2.3},\n",
       " 'laying': {'layingDuration': 0.0},\n",
       " 'bending': {'bendAccTwist61_70Count': 0,\n",
       "  'bendOnly41_50Count': 0,\n",
       "  'bendAcc21_30Count': 0,\n",
       "  'bend41_50Duration': 0.0,\n",
       "  'bendTotalDuration': 0.0,\n",
       "  'bendAcc51_60Count': 0,\n",
       "  'bendAcc61_70Count': 0,\n",
       "  'bendAccTwist31_40Count': 0,\n",
       "  'bend31_40Count': 0,\n",
       "  'bendTwistCount': 0,\n",
       "  'bendAccCount': 0,\n",
       "  'bendAccTwist41_50Count': 0,\n",
       "  'bendTwist71_Count': 0,\n",
       "  'bend21_30Count': 0,\n",
       "  'bendTwist61_70Count': 0,\n",
       "  'bendTwist51_60Count': 0,\n",
       "  'bend21_30Duration': 0.0,\n",
       "  'bendOnly51_60Count': 0,\n",
       "  'bend61_70Duration': 0.0,\n",
       "  'bendTwist31_40Count': 0,\n",
       "  'bendOnly71_Count': 0,\n",
       "  'bend71_Count': 0,\n",
       "  'bendAccTwistCount': 0,\n",
       "  'bendTwist21_30Count': 0,\n",
       "  'bendAccTwist21_30Count': 0,\n",
       "  'bend41_50Count': 0,\n",
       "  'bendOnly61_70Count': 0,\n",
       "  'bend61_70Count': 0,\n",
       "  'bendTwist41_50Count': 0,\n",
       "  'bendOnlyCount': 0,\n",
       "  'bend31_40Duration': 0.0,\n",
       "  'bend71_Duration': 0.0,\n",
       "  'bendOnly31_40Count': 0,\n",
       "  'bendAccTwist71_Count': 0,\n",
       "  'bendAcc41_50Count': 0,\n",
       "  'bendOnly21_30Count': 0,\n",
       "  'bendAcc31_40Count': 0,\n",
       "  'bendAcc71_Count': 0,\n",
       "  'bend51_60Duration': 0.0,\n",
       "  'bend51_60Count': 0,\n",
       "  'bendAccTwist51_60Count': 0,\n",
       "  'totalBendCount': 0},\n",
       " 'walking': {'walkingDistance': 0.32,\n",
       "  'walkingSpeed': 2.2,\n",
       "  'walkingDuration': 8.73,\n",
       "  'walkingStepCount': 751},\n",
       " 'twisting': {'twistAcc15_45Count': 0,\n",
       "  'twistAccCount': 0,\n",
       "  'twist46_90Duration': 0.09,\n",
       "  'twistOnly15_45Count': 0,\n",
       "  'twist15_45Duration': 0.0,\n",
       "  'twistAcc46_90Count': 0,\n",
       "  'twistOnlyCount': 2,\n",
       "  'twistTotalCount': 2,\n",
       "  'twist46_90Count': 2,\n",
       "  'twist15_45Count': 0,\n",
       "  'twistTotalDuration': 0.09,\n",
       "  'twistOnly46_90Count': 2},\n",
       " 'sittingStanding': {'sitStandDuration': 6.18}}"
      ]
     },
     "execution_count": 7,
     "metadata": {},
     "output_type": "execute_result"
    }
   ],
   "source": [
    "import json\n",
    "with open(\"./sampleOutput.json\",\"r\") as f:\n",
    "    sampleResponse =json.loads(f.read())\n",
    "sampleResponse"
   ]
  },
  {
   "cell_type": "markdown",
   "metadata": {},
   "source": [
    " "
   ]
  }
 ],
 "metadata": {
  "kernelspec": {
   "display_name": "conda_python3",
   "language": "python",
   "name": "conda_python3"
  },
  "language_info": {
   "codemirror_mode": {
    "name": "ipython",
    "version": 3
   },
   "file_extension": ".py",
   "mimetype": "text/x-python",
   "name": "python",
   "nbconvert_exporter": "python",
   "pygments_lexer": "ipython3",
   "version": "3.6.5"
  }
 },
 "nbformat": 4,
 "nbformat_minor": 2
}
