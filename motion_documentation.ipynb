{
 "cells": [
  {
   "cell_type": "markdown",
   "metadata": {},
   "source": [
    "# An Introduction to Motion Kinetics Model\n",
    "_**The Modjoul Motion Kinetics Model provides information about ergonomic behavior — duration and counts of walking, bending and twisting like activities based upon various sensor values.**_\n",
    "\n",
    "1. [Introduction](#1.-Introduction)\n",
    "2. [Preparing CSV](#2.-Preparing-CSV)\n",
    "3. [Method - 1 Using Endpoint](#3.-Using-Endpoint)<br>\n",
    "    3.1. [Creating model](#3.1.-Creating-Model)<br>\n",
    "    3.2. [Creating endpoint config](#3.2.-Creating-Endpoint-Config)<br>\n",
    "    3.3. [Creating endpoint](#3.3.-Creating-Endpoint)<br>\n",
    "    3.2. [Invoking endpoint](#3.4.-Invoking-Endpoint)<br>\n",
    "    3.2. [Deleting the Endpoint - Optional](#3.5.-Deleting-the-Endpoint---Optional)\n",
    "4. [Method - 2 Using batch transform job](#4.-Using-Batch-Transform-Job)\n",
    "5. [Model Output](#5.-Model-Output)\n"
   ]
  },
  {
   "cell_type": "markdown",
   "metadata": {},
   "source": [
    " "
   ]
  },
  {
   "cell_type": "markdown",
   "metadata": {},
   "source": [
    "## 1. Introduction\n",
    "Motion is the number one cause for injuries in the workplace as well as the structural driver for athletic activities. Modjoul Motion model identifies 4 major activities and corresponding metrics. This model detects not only walking steps but also bends, twists and stationary time. It accepts input in CSV format and outputs data in JSON format.<br>\n",
    "Bending – Count and duration at different bending angle buckets with/without acceleration and twist<br>\n",
    "Twisting – Count and duration for low and high angle twists with/without acceleration<br>\n",
    "Walking – Steps, duration, distance and speed<br>\n",
    "Stationary work – Duration<br>"
   ]
  },
  {
   "cell_type": "markdown",
   "metadata": {},
   "source": [
    " "
   ]
  },
  {
   "cell_type": "markdown",
   "metadata": {},
   "source": [
    "## 2. Preparing CSV\n",
    "Prepare a csv file that should and must contain at least the following sensor values as columns:<br>\n",
    "**altimeter, accelerometer (X,Y,Z-axis values), magnetometer (X,Y,Z-axis values), gyroscope (X,Y,Z-axis values)**. The X, Y, Z - axis are aligned such that +X points to left of the body, +Y points towards above the body and +Z points to the front of the body. The model is a best fit if the sensors placement is at the waist region (similar to the postion of belt buckle).<br><br>\n",
    "**GPS** sensor values are optional but can be provided in order to improve the accuracy of the model. GPS values should contain two columns **gpsSpeed and gpsCourse**, if they are available.\n",
    "<font color=\"red\">_**Each data point is considered at milisecond level i.e, 10 rows = 1 second worth data**_</font> <br><br>\n",
    "The CSV file should include header and the columnNames should be as below : <br>\n",
    "_**altimeter accelX accelY accelZ magnetoX magnetoY magnetoZ gyroX gyroY gyroZ gpsSpeed gpsCourse**_\n",
    "(last two columns are optional)"
   ]
  },
  {
   "cell_type": "code",
   "execution_count": 1,
   "metadata": {
    "collapsed": true
   },
   "outputs": [
    {
     "data": {
      "text/html": [
       "<div>\n",
       "<style>\n",
       "    .dataframe thead tr:only-child th {\n",
       "        text-align: right;\n",
       "    }\n",
       "\n",
       "    .dataframe thead th {\n",
       "        text-align: left;\n",
       "    }\n",
       "\n",
       "    .dataframe tbody tr th {\n",
       "        vertical-align: top;\n",
       "    }\n",
       "</style>\n",
       "<table border=\"1\" class=\"dataframe\">\n",
       "  <thead>\n",
       "    <tr style=\"text-align: right;\">\n",
       "      <th></th>\n",
       "      <th>0</th>\n",
       "      <th>1</th>\n",
       "    </tr>\n",
       "  </thead>\n",
       "  <tbody>\n",
       "    <tr>\n",
       "      <th>0</th>\n",
       "      <td>41</td>\n",
       "      <td>90.54</td>\n",
       "    </tr>\n",
       "    <tr>\n",
       "      <th>1</th>\n",
       "      <td>41</td>\n",
       "      <td>90.55</td>\n",
       "    </tr>\n",
       "    <tr>\n",
       "      <th>2</th>\n",
       "      <td>41</td>\n",
       "      <td>90.61</td>\n",
       "    </tr>\n",
       "  </tbody>\n",
       "</table>\n",
       "</div>"
      ],
      "text/plain": [
       "    0      1\n",
       "0  41  90.54\n",
       "1  41  90.55\n",
       "2  41  90.61"
      ]
     },
     "execution_count": 1,
     "metadata": {},
     "output_type": "execute_result"
    }
   ],
   "source": [
    "import pandas as pd\n",
    "df = pd.read_csv('https://s3.amazonaws.com/sagemaker-sample-datasets/heatIndex/InputData/sample.csv', header = None)\n",
    "df.head(3)"
   ]
  },
  {
   "cell_type": "markdown",
   "metadata": {},
   "source": [
    " "
   ]
  },
  {
   "cell_type": "markdown",
   "metadata": {},
   "source": [
    "## 3. Using Endpoint\n",
    "\n",
    "### 3.1. Creating Model\n",
    "To create a model, import boto3, sagemaker and get the image name of the model "
   ]
  },
  {
   "cell_type": "code",
   "execution_count": null,
   "metadata": {
    "collapsed": true
   },
   "outputs": [],
   "source": [
    "import boto3\n",
    "import sagemaker\n",
    "\n",
    "image = '<Place Image Id>'\n",
    "role = sagemaker.get_execution_role()\n",
    "sm = boto3.client('sagemaker')\n",
    "modelName = '<Input Model Name>'\n",
    "createHeatIndexResponse = sm.create_model(ModelName = modelName, ExecutionRoleArn = role, PrimaryContainer = {'Image':image})"
   ]
  },
  {
   "cell_type": "markdown",
   "metadata": {},
   "source": [
    "### 3.2. Creating Endpoint Config\n"
   ]
  },
  {
   "cell_type": "code",
   "execution_count": null,
   "metadata": {
    "collapsed": true
   },
   "outputs": [],
   "source": [
    "configName='<Input Configuration Name>'\n",
    "instanceType = '<Input Instance Type>'\n",
    "createHeatIndexEndpointConfig = sm.create_endpoint_config(EndpointConfigName = configName, ProductionVariants = [{'InstanceType':instanceType, 'InitialInstanceCount':1, 'ModelName':modelName, 'VariantName':'xyz'}])"
   ]
  },
  {
   "cell_type": "markdown",
   "metadata": {},
   "source": [
    "### 3.3. Creating Endpoint"
   ]
  },
  {
   "cell_type": "code",
   "execution_count": null,
   "metadata": {
    "collapsed": true
   },
   "outputs": [],
   "source": [
    "endpointName = '<Input Endpoint Name>'\n",
    "createHeatIndexEndpoint = sm.create_endpoint(EndpointName = endpointName, EndpointConfigName = configName)"
   ]
  },
  {
   "cell_type": "markdown",
   "metadata": {},
   "source": [
    "### 3.4. Invoking Endpoint"
   ]
  },
  {
   "cell_type": "code",
   "execution_count": null,
   "metadata": {
    "collapsed": true
   },
   "outputs": [],
   "source": [
    "runtime = boto3.Session().client('runtime.sagemaker')\n",
    "\n",
    "#Reading Input Data \n",
    "with open('<Input csv file path including csv file name>','rb') as f:\n",
    "    payload = f.read()\n",
    "\n",
    "response = runtime.invoke_endpoint(EndpointName = endpointName, ContentType = 'text/csv', Body = payload)\n",
    "result = response['Body'].read().decode()\n",
    "\n",
    "#Writing Output Data \n",
    "with open('<Output json file path including json file name>','w') as f:\n",
    "    f.write(json.dumps(result))"
   ]
  },
  {
   "cell_type": "markdown",
   "metadata": {},
   "source": [
    "### 3.5. Deleting the Endpoint - Optional\n",
    "\n",
    "If you're ready to be done with this notebook, please run the delete_endpoint line in the cell below.  This will remove the hosted endpoint you created and avoid any charges from a stray instance being left on."
   ]
  },
  {
   "cell_type": "code",
   "execution_count": null,
   "metadata": {
    "collapsed": true
   },
   "outputs": [],
   "source": [
    "sagemaker.Session().delete_endpoint(endpointName)"
   ]
  },
  {
   "cell_type": "markdown",
   "metadata": {},
   "source": [
    " "
   ]
  },
  {
   "cell_type": "markdown",
   "metadata": {},
   "source": [
    "## 4. Using Batch Transform Job\n",
    "\n",
    "Refer the below link for how to use batch transform job for getting inferences from a model\n",
    "[sagemaker batch transform job](https://docs.aws.amazon.com/sagemaker/latest/dg/ex1-batch-transform.html#ex1-batch-transform-console)"
   ]
  },
  {
   "cell_type": "code",
   "execution_count": null,
   "metadata": {
    "collapsed": true
   },
   "outputs": [],
   "source": [
    "import boto3\n",
    "import sagemaker\n",
    "\n",
    "inputLocation = '<S3 location for Input Data>'\n",
    "outputLocation = '<S3 location for Output Data>'\n",
    "\n",
    "jobName = '<Input Job Name>'\n",
    "modelName = '<Input Model Name>'\n",
    "instanceType = '<Input Instance Type>'\n",
    "\n",
    "# Initialize the transformer object\n",
    "transformer =sagemaker.transformer.Transformer(base_transform_job_name = jobName, model_name = modelName, instance_count=1, instance_type = instanceType, output_path = outputLocation)\n",
    "\n",
    "# To start a transform job:\n",
    "transformer.transform(inputLocation, content_type='text/csv', split_type='None')\n",
    "\n",
    "# Then wait until transform job is completed\n",
    "transformer.wait() \n"
   ]
  },
  {
   "cell_type": "markdown",
   "metadata": {},
   "source": [
    " "
   ]
  },
  {
   "cell_type": "markdown",
   "metadata": {},
   "source": [
    "## 5. Model Output"
   ]
  },
  {
   "cell_type": "code",
   "execution_count": 2,
   "metadata": {
    "collapsed": true
   },
   "outputs": [
    {
     "data": {
      "text/html": [
       "<div>\n",
       "<style>\n",
       "    .dataframe thead tr:only-child th {\n",
       "        text-align: right;\n",
       "    }\n",
       "\n",
       "    .dataframe thead th {\n",
       "        text-align: left;\n",
       "    }\n",
       "\n",
       "    .dataframe tbody tr th {\n",
       "        vertical-align: top;\n",
       "    }\n",
       "</style>\n",
       "<table border=\"1\" class=\"dataframe\">\n",
       "  <thead>\n",
       "    <tr style=\"text-align: right;\">\n",
       "      <th></th>\n",
       "      <th>0</th>\n",
       "    </tr>\n",
       "  </thead>\n",
       "  <tbody>\n",
       "    <tr>\n",
       "      <th>0</th>\n",
       "      <td>91.182759</td>\n",
       "    </tr>\n",
       "    <tr>\n",
       "      <th>1</th>\n",
       "      <td>91.842285</td>\n",
       "    </tr>\n",
       "    <tr>\n",
       "      <th>2</th>\n",
       "      <td>91.857751</td>\n",
       "    </tr>\n",
       "  </tbody>\n",
       "</table>\n",
       "</div>"
      ],
      "text/plain": [
       "           0\n",
       "0  91.182759\n",
       "1  91.842285\n",
       "2  91.857751"
      ]
     },
     "execution_count": 2,
     "metadata": {},
     "output_type": "execute_result"
    }
   ],
   "source": [
    "sampleResponse = pd.read_csv('https://s3.amazonaws.com/sagemaker-sample-datasets/heatIndex/OutputData/sampleOutput.json')\n",
    "sampleResponse"
   ]
  },
  {
   "cell_type": "markdown",
   "metadata": {},
   "source": [
    " "
   ]
  }
 ],
 "metadata": {
  "kernelspec": {
   "display_name": "Python 3",
   "language": "python",
   "name": "python3"
  },
  "language_info": {
   "codemirror_mode": {
    "name": "ipython",
    "version": 3
   },
   "file_extension": ".py",
   "mimetype": "text/x-python",
   "name": "python",
   "nbconvert_exporter": "python",
   "pygments_lexer": "ipython3",
   "version": "3.6.3"
  }
 },
 "nbformat": 4,
 "nbformat_minor": 2
}
